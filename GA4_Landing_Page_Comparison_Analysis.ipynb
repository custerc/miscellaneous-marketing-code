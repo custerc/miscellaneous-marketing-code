{
  "nbformat": 4,
  "nbformat_minor": 0,
  "metadata": {
    "colab": {
      "provenance": [],
      "authorship_tag": "ABX9TyO81Z3EHdtNHVyWRHoRWjM2",
      "include_colab_link": true
    },
    "kernelspec": {
      "name": "python3",
      "display_name": "Python 3"
    },
    "language_info": {
      "name": "python"
    }
  },
  "cells": [
    {
      "cell_type": "markdown",
      "metadata": {
        "id": "view-in-github",
        "colab_type": "text"
      },
      "source": [
        "<a href=\"https://colab.research.google.com/github/custerc/miscellaneous-marketing-code/blob/main/GA4_Landing_Page_Comparison_Analysis.ipynb\" target=\"_parent\"><img src=\"https://colab.research.google.com/assets/colab-badge.svg\" alt=\"Open In Colab\"/></a>"
      ]
    },
    {
      "cell_type": "markdown",
      "source": [
        "# What is this?\n",
        "\n",
        "Google Analytics will happily allow you compare the performance of pages from one time period to another (e.g. this month vs. last month). But it won't allow you to sort by the percent or raw change, so it's not easy to see changes that matter.\n",
        "\n",
        "This script take a data export from GA4's Reports > Engagement > Landing page report and allows you to sort the data by percent and raw change for several different metrics.\n",
        "\n",
        "## How do I use this?\n",
        "\n",
        "Please refer to the following how-to video: https://www.youtube.com/watch?v=AcSrTlsMC7Y\n",
        "\n",
        "### Step 1: Export your data from GA\n",
        "\n",
        "It must be a comparison report of the Reports > Engagement > Landing page report, and the file must be named `data-export.csv`. Upload it to the notebook by clicking the folder icon on the left and then dragging and dropping the file into the \"Files\" tab.\n",
        "\n",
        "### Step 2: Change your session floor in the code block below, if desired\n",
        "\n",
        "The minimum number of sessions required for data to be returned. Ideal number will vary based on your site's traffic and the lengths of time you're comparing.\n",
        "\n",
        "Once you've set the number you would like, press the play button in the top left corner of the block (mouseover and you'll see it)."
      ],
      "metadata": {
        "id": "TPG1iL-GkyBG"
      }
    },
    {
      "cell_type": "code",
      "source": [
        "# Make your changes here.\n",
        "session_floor = 100"
      ],
      "metadata": {
        "id": "bavx3Q7SktT6"
      },
      "execution_count": 3,
      "outputs": []
    },
    {
      "cell_type": "markdown",
      "source": [
        "### Step 3. Press the play button in the  block below to run the code and display the results.\n",
        "\n",
        "Once the resulting table is displayed, look at the top right corner of the block with the table for a button you can click to turn it into a sortable table."
      ],
      "metadata": {
        "id": "EeZX-rIPkwh7"
      }
    },
    {
      "cell_type": "code",
      "execution_count": null,
      "metadata": {
        "id": "Dqe_sOG8kmYo"
      },
      "outputs": [],
      "source": [
        "# Please make a copy and work there if you want to change any code in this block.\n",
        "# If you're just running the script, all you need to do is click the play button on the left.\n",
        "\n",
        "import pandas as pd\n",
        "import csv\n",
        "\n",
        "#create empty lists for data from the current and previous periods in the export\n",
        "current_list = []\n",
        "previous_list = []\n",
        "\n",
        "#open the csv file\n",
        "with open (str('data-export.csv'), 'r') as file:\n",
        "  data_reader=csv.reader(file)\n",
        "  datalist = list(data_reader)\n",
        "\n",
        "# Flag to determine whether to add rows to 'current' or 'previous'\n",
        "add_to_current = True\n",
        "\n",
        "for row in datalist[9:]:\n",
        "# handle the empty rows and second round of dates\n",
        "  if not row:\n",
        "    continue\n",
        "  if 'Start date' in row[0]:\n",
        "    continue\n",
        "  if 'End date' in row[0]:\n",
        "    continue\n",
        "\n",
        "  # keep add_to_current true until you hit # All Users\n",
        "  if row[0] == '# All Users':\n",
        "    add_to_current = False\n",
        "    continue  # Skip the row containing '# All Users'\n",
        "\n",
        "  # appending to the appropriate lists\n",
        "  if add_to_current:\n",
        "    current_list.append(row)\n",
        "  else:\n",
        "    previous_list.append(row)\n",
        "\n",
        "# create two dataframes with the two lists\n",
        "df_current = pd.DataFrame(current_list,columns=['Landing page', 'Sessions', 'Users', 'New users', 'Average engagement time per session', 'Conversions', 'Total revenue'])\n",
        "df_previous = pd.DataFrame(previous_list,columns=['Landing page', 'Sessions_prev', 'Users_prev', 'New users_prev', 'Average engagement time per session_prev', 'Conversions_prev', 'Total revenue_prev'])\n",
        "\n",
        "# merge the dataframes and clean the data\n",
        "joined = pd.merge(df_current, df_previous, on='Landing page', how='outer')\n",
        "joined.replace(',','', regex=True, inplace=True)\n",
        "joined.replace('%','', regex=True, inplace=True)\n",
        "joined = joined.drop(index=0)\n",
        "\n",
        "# convert to numeric datatypes\n",
        "joined[['Sessions', 'Users', 'New users', 'Average engagement time per session', 'Conversions', 'Total revenue', 'Sessions_prev', 'Users_prev', 'New users_prev', 'Average engagement time per session_prev', 'Conversions_prev', 'Total revenue_prev']] = joined[['Sessions', 'Users', 'New users', 'Average engagement time per session', 'Conversions', 'Total revenue', 'Sessions_prev', 'Users_prev', 'New users_prev', 'Average engagement time per session_prev', 'Conversions_prev', 'Total revenue_prev']].apply(pd.to_numeric)\n",
        "\n",
        "# create new columns tracking the percentage and raw change in sessions in the joined df\n",
        "joined['SessionsDelta_perc'] = (joined['Sessions'] - joined['Sessions_prev']) / joined['Sessions_prev'] * 100\n",
        "joined['SessionsDelta_raw'] = (joined['Sessions'] - joined['Sessions_prev'])\n",
        "joined['EngagementDelta_perc'] = (joined['Average engagement time per session'] - joined['Average engagement time per session_prev']) / joined['Average engagement time per session_prev'] * 100\n",
        "joined['EngagementDelta_raw'] = (joined['Average engagement time per session'] - joined['Average engagement time per session_prev'])\n",
        "joined['ConversionsDelta_perc'] = (joined['Conversions'] - joined['Conversions_prev']) / joined['Conversions_prev'] * 100\n",
        "joined['ConversionsDelta_raw'] = (joined['Conversions'] - joined['Conversions_prev'])\n",
        "joined = joined.round({'SessionsDelta_perc': 1})\n",
        "joined = joined.round({'EngagementDelta_perc': 1})\n",
        "joined = joined.round({'ConversionsDelta_perc': 1})\n",
        "joined = joined.round({'ConversionsDelta_raw': 1})\n",
        "joined = joined.round({'EngagementDelta_raw': 1})\n",
        "joined = joined.round({'Average engagement time per session': 1})\n",
        "joined = joined.round({'Average engagement time per session_prev': 1})\n",
        "\n",
        "# default column sorting & output\n",
        "sortbycol = 'SessionsDelta_perc'\n",
        "output = joined.sort_values(by=[sortbycol], ascending=True)\n",
        "# rows_to_output = 1000 # if you're reading code on github, change this value to 1000 or higher\n",
        "\n",
        "\n",
        "# setting session count floor\n",
        "output = output.drop(output[output.Sessions_prev < session_floor].index)\n",
        "output = output.drop(output[output.Sessions < session_floor].index)\n",
        "\n",
        "#define and generate output\n",
        "output = output[['Landing page', 'SessionsDelta_perc', 'SessionsDelta_raw', 'Sessions', 'Sessions_prev', 'EngagementDelta_perc', 'EngagementDelta_raw', 'ConversionsDelta_perc', 'ConversionsDelta_raw', 'Average engagement time per session', 'Average engagement time per session_prev']]\n",
        "# output.head(rows_to_output)\n",
        "output"
      ]
    },
    {
      "cell_type": "markdown",
      "source": [
        "## Optional Step 4: Export the results to a CSV\n",
        "\n",
        "Run the code below and then look in the Files tab on the left-hand menu of this page. A file called `output.csv` will appear. Click the three-dot icon next to it and hit \"Download\" to download the CSV file.\n",
        "\n",
        "(A CSV file will be readable by any spreadsheet software including Excel, Google Sheets, LibreOffice, etc.)"
      ],
      "metadata": {
        "id": "lRT6pQIjbO26"
      }
    },
    {
      "cell_type": "code",
      "source": [
        "output.to_csv('output.csv', index=False)\n"
      ],
      "metadata": {
        "id": "_Ypu8uAFdX5h"
      },
      "execution_count": null,
      "outputs": []
    }
  ]
}