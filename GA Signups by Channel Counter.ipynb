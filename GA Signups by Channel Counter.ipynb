{
 "cells": [
  {
   "cell_type": "markdown",
   "metadata": {},
   "source": [
    "A very quick script to count signups (or whatever your conversion metric of choice is) by channels, from a GA landing page report export."
   ]
  },
  {
   "cell_type": "code",
   "execution_count": 5,
   "metadata": {},
   "outputs": [
    {
     "data": {
      "text/plain": [
       "Default Channel Grouping\n",
       "(Other)             1.0\n",
       "Direct            252.0\n",
       "Display            14.0\n",
       "Email              80.0\n",
       "Facebook          140.0\n",
       "Organic Search     78.0\n",
       "Paid Search        74.0\n",
       "Referral Sites      9.0\n",
       "Social            152.0\n",
       "Name: 01: New Account Signups (Goal 2 Completions), dtype: float64"
      ]
     },
     "execution_count": 5,
     "metadata": {},
     "output_type": "execute_result"
    }
   ],
   "source": [
    "import pandas as pd\n",
    "\n",
    "df = pd.read_csv('ga-lp-channel.csv', skiprows=6)\n",
    "df = df.dropna()\n",
    "df.groupby('Default Channel Grouping')['01: New Account Signups (Goal 2 Completions)'].sum()"
   ]
  }
 ],
 "metadata": {
  "kernelspec": {
   "display_name": "Python 3",
   "language": "python",
   "name": "python3"
  },
  "language_info": {
   "codemirror_mode": {
    "name": "ipython",
    "version": 3
   },
   "file_extension": ".py",
   "mimetype": "text/x-python",
   "name": "python",
   "nbconvert_exporter": "python",
   "pygments_lexer": "ipython3",
   "version": "3.7.0"
  }
 },
 "nbformat": 4,
 "nbformat_minor": 2
}
