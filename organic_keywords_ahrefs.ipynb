{
 "cells": [
  {
   "cell_type": "markdown",
   "id": "5491a24c",
   "metadata": {},
   "source": [
    "Filter by volume and export first 5k rows from organic keywords report: https://app.ahrefs.com/v2-site-explorer/organic-keywords/subdomains?compareDate=prev6Months&country=us&direction=desc&sort=volume&target=cockroachlabs.com%2F"
   ]
  },
  {
   "cell_type": "code",
   "execution_count": 35,
   "id": "2180a389",
   "metadata": {},
   "outputs": [],
   "source": [
    "import pandas as pd\n",
    "\n",
    "df = pd.read_csv('cockroachlabs.com--organic-keywords-subdomai__2022-01-14_10-51-15.csv')\n",
    "df2 = df.drop(columns=['SERP features', \"KD\", 'CPC', 'Previous traffic', 'Current traffic', 'Previous URL inside', 'Previous URL', 'Current URL inside', 'Previous date', 'Current date'])\n",
    "df2 =  df2[df2['Current URL'].notna()]\n",
    "df3 = df2[df2['Current URL'].str.contains('blog')]\n",
    "df3.to_csv('keyword_change.csv')"
   ]
  }
 ],
 "metadata": {
  "kernelspec": {
   "display_name": "Python 3 (ipykernel)",
   "language": "python",
   "name": "python3"
  },
  "language_info": {
   "codemirror_mode": {
    "name": "ipython",
    "version": 3
   },
   "file_extension": ".py",
   "mimetype": "text/x-python",
   "name": "python",
   "nbconvert_exporter": "python",
   "pygments_lexer": "ipython3",
   "version": "3.9.7"
  }
 },
 "nbformat": 4,
 "nbformat_minor": 5
}
