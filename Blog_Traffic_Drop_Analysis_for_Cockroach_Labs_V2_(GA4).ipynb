{
  "nbformat": 4,
  "nbformat_minor": 0,
  "metadata": {
    "colab": {
      "provenance": [],
      "authorship_tag": "ABX9TyPYnYvU0IFKxQ4/WRuBjNB9",
      "include_colab_link": true
    },
    "kernelspec": {
      "name": "python3",
      "display_name": "Python 3"
    },
    "language_info": {
      "name": "python"
    }
  },
  "cells": [
    {
      "cell_type": "markdown",
      "metadata": {
        "id": "view-in-github",
        "colab_type": "text"
      },
      "source": [
        "<a href=\"https://colab.research.google.com/github/custerc/miscellaneous-marketing-code/blob/main/Blog_Traffic_Drop_Analysis_for_Cockroach_Labs_V2_(GA4).ipynb\" target=\"_parent\"><img src=\"https://colab.research.google.com/assets/colab-badge.svg\" alt=\"Open In Colab\"/></a>"
      ]
    },
    {
      "cell_type": "code",
      "execution_count": 22,
      "metadata": {
        "colab": {
          "base_uri": "https://localhost:8080/"
        },
        "id": "lkzwCkb-p7nZ",
        "outputId": "b114b70e-0c30-4e43-bd1b-686fa9000a9b"
      },
      "outputs": [
        {
          "output_type": "stream",
          "name": "stdout",
          "text": [
            "Current:\n",
            "[['Landing page', 'Sessions', 'Users', 'New users', 'Average engagement time per session', 'Conversions', 'Total revenue'], ['/blog/what-is-a-foreign-key', '8361', '7718', '7480', '52.84642985288841', '11', '0'], ['/blog/sql-add-constraint', '6810', '6376', '6101', '41.09500734214391', '3', '0'], ['/blog/what-is-a-uuid', '5791', '5264', '5072', '45.86997064410292', '11', '0'], ['/blog/select-for-update', '5456', '4879', '4529', '41.7025293255132', '0', '0']]\n",
            "\n",
            "Previous:\n",
            "[['Landing page', 'Sessions', 'Users', 'New users', 'Average engagement time per session', 'Conversions', 'Total revenue'], ['/blog/what-is-a-foreign-key', '6262', '5611', '5449', '54.9366017246886', '0', '0'], ['/blog/sql-add-constraint', '5776', '5285', '5089', '39.21537396121884', '0', '0'], ['/blog/what-is-a-uuid', '5250', '4836', '4709', '48.276761904761905', '11', '0'], ['/blog/select-for-update', '5458', '4750', '4418', '45.110113594723344', '3', '0']]\n"
          ]
        }
      ],
      "source": [
        "import pandas as pd\n",
        "\n",
        "#create empty lists for data from the current and previous periods in the export\n",
        "current_list = []\n",
        "previous_list = []\n",
        "\n",
        "#open the csv file\n",
        "with open (str('data-export.csv'), 'r') as file:\n",
        "  data_reader=csv.reader(file)\n",
        "  datalist = list(data_reader)\n",
        "\n",
        "# Flag to determine whether to add rows to 'current' or 'previous'\n",
        "add_to_current = True\n",
        "\n",
        "for row in datalist[9:]:\n",
        "# handle the empty rows and second round of dates\n",
        "  if not row:\n",
        "    continue\n",
        "  if 'Start date' in row[0]:\n",
        "    continue\n",
        "  if 'End date' in row[0]:\n",
        "    continue\n",
        "\n",
        "  # keep add_to_current true until you hit # All Users\n",
        "  if row[0] == '# All Users':\n",
        "    add_to_current = False\n",
        "    continue  # Skip the row containing '# All Users'\n",
        "\n",
        "  # appending to the appropriate lists\n",
        "  if add_to_current:\n",
        "    current_list.append(row)\n",
        "  else:\n",
        "    previous_list.append(row)\n"
      ]
    },
    {
      "cell_type": "code",
      "source": [
        "# create two dataframes with the two lists\n",
        "df_current = pd.DataFrame(current_list,columns=['Landing page', 'Sessions', 'Users', 'New users', 'Average engagement time per session', 'Conversions', 'Total revenue'])\n",
        "df_previous = pd.DataFrame(previous_list,columns=['Landing page', 'Sessions_prev', 'Users_prev', 'New users_prev', 'Average engagement time per session_prev', 'Conversions_prev', 'Total revenue_prev'])\n",
        "\n",
        "# merge the dataframes and clean the data\n",
        "joined = pd.merge(df_current, df_previous, on='Landing page', how='outer')\n",
        "joined.replace(',','', regex=True, inplace=True)\n",
        "joined.replace('%','', regex=True, inplace=True)\n",
        "joined = joined.drop(index=0)\n",
        "\n",
        "\n",
        "# convert to numeric datatypes\n",
        "df[[\"a\", \"b\"]] = df[[\"a\", \"b\"]].apply(pd.to_numeric)\n",
        "\n",
        "\n",
        "\n",
        "\n",
        "joined.dtypes\n"
      ],
      "metadata": {
        "colab": {
          "base_uri": "https://localhost:8080/"
        },
        "id": "4PNGz5-gGbUH",
        "outputId": "d0edf92f-75d4-446f-fedd-f351f1d83d18"
      },
      "execution_count": 34,
      "outputs": [
        {
          "output_type": "execute_result",
          "data": {
            "text/plain": [
              "Landing page                                 object\n",
              "Sessions                                     object\n",
              "Users                                        object\n",
              "New users                                    object\n",
              "Average engagement time per session          object\n",
              "Conversions                                  object\n",
              "Total revenue                                object\n",
              "Sessions_prev                                 int64\n",
              "Users_prev                                   object\n",
              "New users_prev                               object\n",
              "Average engagement time per session_prev     object\n",
              "Conversions_prev                             object\n",
              "Total revenue_prev                           object\n",
              "SessionsDelta_perc                          float64\n",
              "SessionsDelta_raw                           float64\n",
              "dtype: object"
            ]
          },
          "metadata": {},
          "execution_count": 34
        }
      ]
    },
    {
      "cell_type": "code",
      "source": [
        "\n",
        "# create new columns tracking the percentage and raw change in sessions in the joined df\n",
        "\n",
        "\n",
        "joined['SessionsDelta_perc'] = (joined['Sessions'].astype('float') - joined['Sessions_prev'].astype('float')) / joined['Sessions_prev'].astype('float') * 100\n",
        "joined['SessionsDelta_raw'] = (joined['Sessions'].astype('float') - joined['Sessions_prev'].astype('float'))\n",
        "joined = joined.round({'SessionsDelta_perc': 1})\n",
        "joined['Sessions_prev'] = pd.to_numeric(joined['Sessions_prev'])\n",
        "\n",
        "\n",
        "\n",
        "# create the report to output - WORK IN PROGRESS\n",
        "\n",
        "output = joined.sort_values(by=['SessionsDelta_perc'], ascending=True)\n",
        "# output = output.drop(output[output.Sessions_prev < 50].index, inplace=True)\n",
        "output = output[['Landing page', 'SessionsDelta_perc', 'SessionsDelta_raw', 'Average engagement time per session', 'Average engagement time per session_prev']]\n",
        "\n",
        "output.head(500)"
      ],
      "metadata": {
        "id": "yjhDuPcPLno_"
      },
      "execution_count": null,
      "outputs": []
    }
  ]
}