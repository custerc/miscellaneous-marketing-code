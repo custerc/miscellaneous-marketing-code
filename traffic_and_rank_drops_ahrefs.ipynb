{
 "cells": [
  {
   "cell_type": "markdown",
   "id": "0de363cf",
   "metadata": {},
   "source": [
    "Export a CSV of the \"Top Pages\" report from ahrefs with your preferred time period selected."
   ]
  },
  {
   "cell_type": "code",
   "execution_count": 19,
   "id": "b030b155",
   "metadata": {},
   "outputs": [],
   "source": [
    "import pandas as pd\n",
    "\n",
    "df = pd.read_csv('cockroachlabs.com--top-pages-subdomains-all-__2022-01-10_12-26-04.csv')"
   ]
  },
  {
   "cell_type": "code",
   "execution_count": 20,
   "id": "2945ddab",
   "metadata": {},
   "outputs": [],
   "source": [
    "# sort by traffic drop\n",
    "df2 = df[(df[[\"Traffic change\"]] < 0).all(1)]\n",
    "contain_values = df2[df2['URL'].str.contains('blog')]\n",
    "contain_values = contain_values.sort_values(by=\"Traffic change\")\n",
    "contain_values.to_csv('traffic_drop.csv')"
   ]
  },
  {
   "cell_type": "code",
   "execution_count": 21,
   "id": "90b14761",
   "metadata": {},
   "outputs": [],
   "source": [
    "# sort by keyword rank drop\n",
    "df3 = df[(df[[\"Top keyword: Position change\"]] < 0).all(1)]\n",
    "contain_values2 = df3[df3['URL'].str.contains('blog')]\n",
    "contain_values2 = contain_values2.sort_values(by=\"Top keyword: Position change\")\n",
    "contain_values2.to_csv('rank_drop.csv')"
   ]
  }
 ],
 "metadata": {
  "kernelspec": {
   "display_name": "Python 3 (ipykernel)",
   "language": "python",
   "name": "python3"
  },
  "language_info": {
   "codemirror_mode": {
    "name": "ipython",
    "version": 3
   },
   "file_extension": ".py",
   "mimetype": "text/x-python",
   "name": "python",
   "nbconvert_exporter": "python",
   "pygments_lexer": "ipython3",
   "version": "3.9.7"
  }
 },
 "nbformat": 4,
 "nbformat_minor": 5
}
